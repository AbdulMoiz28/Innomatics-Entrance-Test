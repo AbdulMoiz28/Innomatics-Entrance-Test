{
 "cells": [
  {
   "cell_type": "code",
   "execution_count": 1,
   "metadata": {},
   "outputs": [
    {
     "name": "stdout",
     "output_type": "stream",
     "text": [
      "Number of unique userId values: 610\n"
     ]
    }
   ],
   "source": [
    "# Q) How many unique \"userId\" are available in \"ratings.csv\"?\n",
    "import pandas as pd\n",
    "\n",
    "# Load the ratings.csv file into a DataFrame\n",
    "ratings_df = pd.read_csv('ratings.csv')  # Replace 'path_to_ratings.csv' with the actual path to your file\n",
    "\n",
    "# Count the number of unique userId values\n",
    "unique_user_ids = ratings_df['userId'].nunique()\n",
    "\n",
    "print(\"Number of unique userId values:\", unique_user_ids)"
   ]
  },
  {
   "cell_type": "code",
   "execution_count": 2,
   "metadata": {},
   "outputs": [
    {
     "name": "stdout",
     "output_type": "stream",
     "text": [
      "Movie with the maximum number of user ratings: Forrest Gump (1994)\n"
     ]
    }
   ],
   "source": [
    "# Q) Which movie has recieved maximum number of user ratings?*\n",
    "# A.Matrix\n",
    "# B.Pulp Fiction\n",
    "# C.Forrest Gump\n",
    "# D.Shawshank Redemption\n",
    "\n",
    "import pandas as pd\n",
    "\n",
    "# Load the ratings.csv file into a DataFrame\n",
    "ratings_df = pd.read_csv('ratings.csv')  # Replace 'path_to_ratings.csv' with the actual path to your file\n",
    "\n",
    "# Group by movieId and count the number of ratings for each movie\n",
    "ratings_count = ratings_df.groupby('movieId')['rating'].count()\n",
    "\n",
    "# Find the movie with the maximum number of ratings\n",
    "max_rated_movie_id = ratings_count.idxmax()\n",
    "\n",
    "# Get the movie title corresponding to the movieId\n",
    "movies_df = pd.read_csv('movies.csv')  # Replace 'path_to_movies.csv' with the actual path to your file\n",
    "max_rated_movie_title = movies_df[movies_df['movieId'] == max_rated_movie_id]['title'].values[0]\n",
    "\n",
    "print(\"Movie with the maximum number of user ratings:\", max_rated_movie_title)\n"
   ]
  },
  {
   "cell_type": "code",
   "execution_count": 3,
   "metadata": {},
   "outputs": [
    {
     "name": "stdout",
     "output_type": "stream",
     "text": [
      "Tags for 'Matrix, The (1999)':\n",
      "1358    The Entertainer\n",
      "Name: tag, dtype: object\n"
     ]
    }
   ],
   "source": [
    "# Q) Select all the correct tags submitted by users to \"Matrix, The (1999)\" movie?*\n",
    "# A.alternate universe\n",
    "# B.karate\n",
    "# C.philosophy\n",
    "# D.post apocalyptic\n",
    "import pandas as pd\n",
    "\n",
    "# Load the tags.csv file into a DataFrame\n",
    "tags_df = pd.read_csv('tags.csv')  # Replace 'path_to_tags.csv' with the actual path to your file\n",
    "\n",
    "# Define the movie_id variable\n",
    "movie_id = 1234  # Replace 1234 with the actual movie ID for \"Matrix, The (1999)\"\n",
    "\n",
    "# Filter tags for the movie \"Matrix, The (1999)\"\n",
    "matrix_tags = tags_df[tags_df['movieId'] == movie_id]\n",
    "\n",
    "# Print the tags for the movie\n",
    "print(\"Tags for 'Matrix, The (1999)':\")\n",
    "print(matrix_tags['tag'])"
   ]
  },
  {
   "cell_type": "code",
   "execution_count": 4,
   "metadata": {},
   "outputs": [
    {
     "name": "stdout",
     "output_type": "stream",
     "text": [
      "Average user rating for 'Terminator 2: Judgment Day (1991)': 3.970982142857143\n"
     ]
    }
   ],
   "source": [
    "# What is the average user rating for movie named \"Terminator 2: Judgment Day (1991)\"?\n",
    "import pandas as pd\n",
    "\n",
    "# Load the ratings.csv file into a DataFrame\n",
    "ratings_df = pd.read_csv('ratings.csv')  # Replace 'path_to_ratings.csv' with the actual path to your file\n",
    "\n",
    "# Load the movies.csv file into a DataFrame\n",
    "movies_df = pd.read_csv('movies.csv')  # Replace 'path_to_movies.csv' with the actual path to your file\n",
    "\n",
    "# Find the movieId for \"Terminator 2: Judgment Day (1991)\"\n",
    "terminator_2_id = movies_df[movies_df['title'] == 'Terminator 2: Judgment Day (1991)']['movieId'].values[0]\n",
    "\n",
    "# Filter ratings for \"Terminator 2: Judgment Day (1991)\"\n",
    "terminator_2_ratings = ratings_df[ratings_df['movieId'] == terminator_2_id]\n",
    "\n",
    "# Calculate the average rating\n",
    "average_rating = terminator_2_ratings['rating'].mean()\n",
    "\n",
    "print(\"Average user rating for 'Terminator 2: Judgment Day (1991)':\", average_rating)"
   ]
  },
  {
   "cell_type": "code",
   "execution_count": 5,
   "metadata": {},
   "outputs": [
    {
     "data": {
      "image/png": "[encoded data removed]",
      "text/plain": [
       "<Figure size 640x480 with 1 Axes>"
      ]
     },
     "metadata": {},
     "output_type": "display_data"
    }
   ],
   "source": [
    "# How does the data distribution of user ratings for \"Fight Club (1999)\" movie looks like?*\n",
    "import pandas as pd\n",
    "import matplotlib.pyplot as plt\n",
    "\n",
    "# Load the ratings.csv file into a DataFrame\n",
    "ratings_df = pd.read_csv('ratings.csv')  # Replace 'path_to_ratings.csv' with the actual path to your file\n",
    "\n",
    "# Load the movies.csv file into a DataFrame\n",
    "movies_df = pd.read_csv('movies.csv')  # Replace 'path_to_movies.csv' with the actual path to your file\n",
    "\n",
    "# Find the movieId for \"Fight Club (1999)\"\n",
    "fight_club_id = movies_df[movies_df['title'] == 'Fight Club (1999)']['movieId'].values[0]\n",
    "\n",
    "# Filter ratings for \"Fight Club (1999)\"\n",
    "fight_club_ratings = ratings_df[ratings_df['movieId'] == fight_club_id]\n",
    "\n",
    "# Plot the histogram of user ratings\n",
    "plt.hist(fight_club_ratings['rating'], bins=5, edgecolor='black')\n",
    "plt.xlabel('User Ratings')\n",
    "plt.ylabel('Frequency')\n",
    "plt.title('Distribution of User Ratings for \"Fight Club (1999)\"')\n",
    "plt.show()"
   ]
  },
  {
   "cell_type": "code",
   "execution_count": 6,
   "metadata": {},
   "outputs": [
    {
     "name": "stdout",
     "output_type": "stream",
     "text": [
      "The most popular movie based on average user ratings: 'Salem's Lot (2004)\n"
     ]
    }
   ],
   "source": [
    "# Most popular\n",
    "import pandas as pd\n",
    "\n",
    "# Load the necessary CSV files into DataFrames\n",
    "movies_df = pd.read_csv('movies.csv')  # Replace 'path_to_movies.csv' with the actual path to your movies.csv file\n",
    "ratings_df = pd.read_csv('ratings.csv')  # Replace 'path_to_ratings.csv' with the actual path to your ratings.csv file\n",
    "\n",
    "# Merge movies_df and ratings_df on 'movieId'\n",
    "merged_df = pd.merge(movies_df, ratings_df, on='movieId')\n",
    "\n",
    "# Calculate the average rating for each movie\n",
    "average_ratings = merged_df.groupby('title')['rating'].mean()\n",
    "\n",
    "# Find the movie with the highest average rating\n",
    "most_popular_movie = average_ratings.idxmax()\n",
    "\n",
    "print(\"The most popular movie based on average user ratings:\", most_popular_movie)\n"
   ]
  },
  {
   "cell_type": "code",
   "execution_count": 7,
   "metadata": {},
   "outputs": [
    {
     "name": "stdout",
     "output_type": "stream",
     "text": [
      "['Forrest Gump (1994)' 'Forrest Gump (1994)' 'Forrest Gump (1994)'\n",
      " 'Forrest Gump (1994)' 'Forrest Gump (1994)']\n"
     ]
    }
   ],
   "source": [
    "# Top 5\n",
    "import pandas as pd\n",
    "\n",
    "# Load the necessary CSV files into DataFrames\n",
    "movies_df = pd.read_csv('movies.csv')  # Replace 'path_to_movies.csv' with the actual path to your movies.csv file\n",
    "ratings_df = pd.read_csv('ratings.csv')  # Replace 'path_to_ratings.csv' with the actual path to your ratings.csv file\n",
    "\n",
    "# Merge movies_df and ratings_df on 'movieId'\n",
    "merged_df = pd.merge(movies_df, ratings_df, on='movieId')\n",
    "merged_df['count'] = merged_df.groupby('movieId')['rating'].transform('count')\n",
    "top5_popular_movies = merged_df.sort_values(['rating', 'count'], ascending=False).head(5)\n",
    "print(top5_popular_movies['title'].values)  # Print the movie titles"
   ]
  },
  {
   "cell_type": "code",
   "execution_count": 8,
   "metadata": {},
   "outputs": [
    {
     "name": "stdout",
     "output_type": "stream",
     "text": [
      "Third most popular Sci-Fi movie based on user ratings: Jurassic Park (1993)\n"
     ]
    },
    {
     "name": "stderr",
     "output_type": "stream",
     "text": [
      "C:\\Users\\abdul\\AppData\\Local\\Temp\\ipykernel_5756\\1751005044.py:14: FutureWarning: merging between different levels is deprecated and will be removed in a future version. (1 levels on the left, 2 on the right)\n",
      "  merged_df = pd.merge(movies_df, grouped_ratings, on='movieId', how='inner')\n",
      "C:\\Users\\abdul\\AppData\\Local\\Temp\\ipykernel_5756\\1751005044.py:14: PerformanceWarning: dropping on a non-lexsorted multi-index without a level parameter may impact performance.\n",
      "  merged_df = pd.merge(movies_df, grouped_ratings, on='movieId', how='inner')\n"
     ]
    }
   ],
   "source": [
    "# Third most popular Sci-Fi movie based on user ratings\n",
    "import pandas as pd\n",
    "\n",
    "def load_movies_data(file_path):\n",
    "    return pd.read_csv(file_path)\n",
    "\n",
    "def load_ratings_data(file_path):\n",
    "    return pd.read_csv(file_path)\n",
    "\n",
    "def find_third_most_popular_scifi_movie(ratings_df, movies_df, genre='Sci-Fi'):\n",
    "    # Group user ratings based on movieId and apply aggregation operations\n",
    "    grouped_ratings = ratings_df.groupby('movieId').agg({'rating': ['count']}).reset_index()\n",
    "\n",
    "    # Merge with movies data\n",
    "    merged_df = pd.merge(movies_df, grouped_ratings, on='movieId', how='inner')\n",
    "\n",
    "    # Filter only those movies with the specified genre\n",
    "    scifi_movies = merged_df[merged_df['genres'].str.contains(genre, case=False)]\n",
    "\n",
    "    # Sort by the number of user ratings in descending order\n",
    "    sorted_scifi_movies = scifi_movies.sort_values(('rating', 'count'), ascending=False)\n",
    "\n",
    "    # Get the third most popular Sci-Fi movie\n",
    "    third_most_popular_movie = sorted_scifi_movies.iloc[2]\n",
    "\n",
    "    return third_most_popular_movie\n",
    "\n",
    "def main():\n",
    "    # Replace 'path_to_movies.csv' and 'path_to_ratings.csv' with actual file paths\n",
    "    movies_path = 'movies.csv'\n",
    "    ratings_path = 'ratings.csv'\n",
    "\n",
    "    # Load data\n",
    "    movies_df = load_movies_data(movies_path)\n",
    "    ratings_df = load_ratings_data(ratings_path)\n",
    "\n",
    "    # Find the third most popular Sci-Fi movie\n",
    "    third_most_popular_scifi_movie = find_third_most_popular_scifi_movie(ratings_df, movies_df)\n",
    "\n",
    "    print(\"Third most popular Sci-Fi movie based on user ratings:\", third_most_popular_scifi_movie['title'])\n",
    "\n",
    "if __name__ == \"__main__\":\n",
    "    main()\n"
   ]
  },
  {
   "cell_type": "code",
   "execution_count": 9,
   "metadata": {},
   "outputs": [
    {
     "name": "stdout",
     "output_type": "stream",
     "text": [
      "MovieId of the movie with the highest IMDb rating: 47\n"
     ]
    }
   ],
   "source": [
    "# Mention the movieId of the movie which has the highest IMDB rating.\n",
    "import pandas as pd\n",
    "\n",
    "# Load ratings.csv into a DataFrame\n",
    "ratings_df = pd.read_csv('ratings.csv')  # Replace 'path_to_ratings.csv' with the actual path to your ratings file\n",
    "\n",
    "# Assuming you have an 'imdb_rating' column in your ratings_df DataFrame\n",
    "# This column might be obtained from external sources or calculated using the IMDb ratings\n",
    "\n",
    "# Find the movieId with the highest IMDb rating\n",
    "highest_imdb_rating_movieId = ratings_df.loc[ratings_df['rating'].idxmax(), 'movieId']\n",
    "\n",
    "print(\"MovieId of the movie with the highest IMDb rating:\", highest_imdb_rating_movieId)\n"
   ]
  },
  {
   "cell_type": "code",
   "execution_count": 10,
   "metadata": {},
   "outputs": [
    {
     "name": "stdout",
     "output_type": "stream",
     "text": [
      "MovieId of the Sci-Fi movie with the highest IMDb rating: 260\n"
     ]
    }
   ],
   "source": [
    "# Sci-Fi movie with the highest IMDb rating\n",
    "import pandas as pd\n",
    "\n",
    "# Load ratings.csv into a DataFrame\n",
    "ratings_df = pd.read_csv('ratings.csv')  # Replace 'path_to_ratings.csv' with the actual path to your ratings file\n",
    "\n",
    "# Load movies.csv into a DataFrame for genre information\n",
    "movies_df = pd.read_csv('movies.csv')  # Replace 'path_to_movies.csv' with the actual path to your movies file\n",
    "\n",
    "# Merge ratings_df with movies_df to get genre information\n",
    "merged_df = pd.merge(ratings_df, movies_df[['movieId', 'genres']], on='movieId', how='left')\n",
    "\n",
    "# Filter for Sci-Fi movies\n",
    "scifi_ratings_df = merged_df[merged_df['genres'].str.contains('Sci-Fi', case=False, na=False)]\n",
    "\n",
    "# Find the movieId with the highest IMDb rating among Sci-Fi movies\n",
    "highest_imdb_rating_movieId = scifi_ratings_df.loc[scifi_ratings_df['rating'].idxmax(), 'movieId']\n",
    "\n",
    "print(\"MovieId of the Sci-Fi movie with the highest IMDb rating:\", highest_imdb_rating_movieId)\n"
   ]
  }
 ],
 "metadata": {
  "kernelspec": {
   "display_name": "Python 3",
   "language": "python",
   "name": "python3"
  },
  "language_info": {
   "codemirror_mode": {
    "name": "ipython",
    "version": 3
   },
   "file_extension": ".py",
   "mimetype": "text/x-python",
   "name": "python",
   "nbconvert_exporter": "python",
   "pygments_lexer": "ipython3",
   "version": "3.9.0"
  }
 },
 "nbformat": 4,
 "nbformat_minor": 2
}
